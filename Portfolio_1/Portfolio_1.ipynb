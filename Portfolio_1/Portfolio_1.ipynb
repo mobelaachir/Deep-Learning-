{
 "cells": [
  {
   "cell_type": "markdown",
   "metadata": {},
   "source": [
    "# Deep Learning Portfolio 1\n",
    "\n",
    "|Name|Github|Kaggle|\n",
    "|----|------|------|\n",
    "|Mohamed Belaachir|mobelaachir|Mo Belaachir|\n",
    "|Jayden Debi-Tewari|Jaydendt1|jaydendt123|\n",
    "|Quincy Soerohardjo|quincysoerohardjo2002|Quincy Soerohardjo|\n",
    "|Michal Reszka-Gniecki|Ckires|...|"
   ]
  }
 ],
 "metadata": {
  "language_info": {
   "name": "python"
  }
 },
 "nbformat": 4,
 "nbformat_minor": 2
}
